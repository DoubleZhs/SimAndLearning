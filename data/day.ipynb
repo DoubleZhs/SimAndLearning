{
 "cells": [
  {
   "cell_type": "code",
   "execution_count": 1,
   "metadata": {},
   "outputs": [
    {
     "name": "stdout",
     "output_type": "stream",
     "text": [
      "轨迹数据中的车辆数: 54078\n",
      "第1天车辆数据中的车辆数: 55618\n",
      "两个数据集共有的车辆数: 54078\n",
      "仅在轨迹数据中出现的车辆数: 0\n",
      "仅在车辆数据中出现的车辆数: 1540\n",
      "轨迹数据中车辆与车辆数据匹配率: 100.00%\n",
      "车辆数据中车辆与轨迹数据匹配率: 97.23%\n",
      "\n",
      "轨迹数据中出现少于3次的车辆数: 649\n"
     ]
    }
   ],
   "source": [
    "# 天数计算与车辆数据比对分析\n",
    "import pandas as pd\n",
    "import numpy as np\n",
    "import matplotlib.pyplot as plt\n",
    "\n",
    "# 读取车辆数据和轨迹数据\n",
    "\n",
    "tagStr = '2025032518122425_100'\n",
    "vehicle_data = pd.read_csv(tagStr+'_VehicleData.csv')\n",
    "trace_data = pd.read_csv('./'+tagStr+'_TraceData/day_1.csv')\n",
    "\n",
    "# 按照vehicleData.ipynb的处理方式计算天数\n",
    "vehicle_data['InDay'] = vehicle_data['In Time'] // 57600 + 1\n",
    "\n",
    "# 计算第1天的车辆数据\n",
    "day1_vehicle_data = vehicle_data[vehicle_data['InDay'] == 1]\n",
    "\n",
    "# 提取两个数据集中的唯一车辆ID\n",
    "trace_vehicles = set(trace_data['VehicleID'].unique())\n",
    "vehicle_vehicles = set(day1_vehicle_data['Vehicle ID'].unique())\n",
    "\n",
    "# 计算统计信息\n",
    "common_vehicles = trace_vehicles.intersection(vehicle_vehicles)\n",
    "only_in_trace = trace_vehicles - vehicle_vehicles\n",
    "only_in_vehicle = vehicle_vehicles - trace_vehicles\n",
    "\n",
    "# 输出比对结果\n",
    "print(f\"轨迹数据中的车辆数: {len(trace_vehicles)}\")\n",
    "print(f\"第1天车辆数据中的车辆数: {len(vehicle_vehicles)}\")\n",
    "print(f\"两个数据集共有的车辆数: {len(common_vehicles)}\")\n",
    "print(f\"仅在轨迹数据中出现的车辆数: {len(only_in_trace)}\")\n",
    "print(f\"仅在车辆数据中出现的车辆数: {len(only_in_vehicle)}\")\n",
    "\n",
    "# 计算匹配率\n",
    "trace_match_percent = len(common_vehicles) / len(trace_vehicles) * 100 if len(trace_vehicles) > 0 else 0\n",
    "vehicle_match_percent = len(common_vehicles) / len(vehicle_vehicles) * 100 if len(vehicle_vehicles) > 0 else 0\n",
    "print(f\"轨迹数据中车辆与车辆数据匹配率: {trace_match_percent:.2f}%\")\n",
    "print(f\"车辆数据中车辆与轨迹数据匹配率: {vehicle_match_percent:.2f}%\")\n",
    "\n",
    "# 检查车辆数据中出现次数少于3次的车辆ID\n",
    "vehicle_id_counts = trace_data['VehicleID'].value_counts()\n",
    "rare_vehicles = vehicle_id_counts[vehicle_id_counts < 3]\n",
    "print(f\"\\n轨迹数据中出现少于3次的车辆数: {len(rare_vehicles)}\")"
   ]
  },
  {
   "cell_type": "code",
   "execution_count": 3,
   "metadata": {},
   "outputs": [
    {
     "name": "stdout",
     "output_type": "stream",
     "text": [
      "共有 529 个VehicleID只有1条数据\n"
     ]
    },
    {
     "data": {
      "text/html": [
       "<div>\n",
       "<style scoped>\n",
       "    .dataframe tbody tr th:only-of-type {\n",
       "        vertical-align: middle;\n",
       "    }\n",
       "\n",
       "    .dataframe tbody tr th {\n",
       "        vertical-align: top;\n",
       "    }\n",
       "\n",
       "    .dataframe thead th {\n",
       "        text-align: right;\n",
       "    }\n",
       "</style>\n",
       "<table border=\"1\" class=\"dataframe\">\n",
       "  <thead>\n",
       "    <tr style=\"text-align: right;\">\n",
       "      <th></th>\n",
       "      <th>VehicleID</th>\n",
       "      <th>Time</th>\n",
       "      <th>PosID</th>\n",
       "    </tr>\n",
       "  </thead>\n",
       "  <tbody>\n",
       "    <tr>\n",
       "      <th>2172490</th>\n",
       "      <td>55511</td>\n",
       "      <td>57094</td>\n",
       "      <td>7658</td>\n",
       "    </tr>\n",
       "    <tr>\n",
       "      <th>2173149</th>\n",
       "      <td>54072</td>\n",
       "      <td>53358</td>\n",
       "      <td>123</td>\n",
       "    </tr>\n",
       "    <tr>\n",
       "      <th>2173240</th>\n",
       "      <td>48936</td>\n",
       "      <td>44750</td>\n",
       "      <td>296</td>\n",
       "    </tr>\n",
       "    <tr>\n",
       "      <th>2173724</th>\n",
       "      <td>52635</td>\n",
       "      <td>50072</td>\n",
       "      <td>177</td>\n",
       "    </tr>\n",
       "    <tr>\n",
       "      <th>2173850</th>\n",
       "      <td>52982</td>\n",
       "      <td>50933</td>\n",
       "      <td>7960</td>\n",
       "    </tr>\n",
       "  </tbody>\n",
       "</table>\n",
       "</div>"
      ],
      "text/plain": [
       "         VehicleID   Time  PosID\n",
       "2172490      55511  57094   7658\n",
       "2173149      54072  53358    123\n",
       "2173240      48936  44750    296\n",
       "2173724      52635  50072    177\n",
       "2173850      52982  50933   7960"
      ]
     },
     "execution_count": 3,
     "metadata": {},
     "output_type": "execute_result"
    }
   ],
   "source": [
    "# 对每个VehicleID进行计数\n",
    "vehicle_counts = trace_data['VehicleID'].value_counts()\n",
    "\n",
    "# 筛选出只有1-2条数据的VehicleID\n",
    "rare_vehicles = vehicle_counts[vehicle_counts <= 1]\n",
    "\n",
    "# 显示只有1-2条数据的VehicleID及其数量\n",
    "print(f\"共有 {len(rare_vehicles)} 个VehicleID只有1条数据\")\n",
    "#print(rare_vehicles)\n",
    "\n",
    "# 显示这些稀有VehicleID的所有数据\n",
    "rare_data = trace_data[trace_data['VehicleID'].isin(rare_vehicles.index)]\n",
    "rare_data.head()"
   ]
  },
  {
   "cell_type": "code",
   "execution_count": null,
   "metadata": {},
   "outputs": [],
   "source": []
  }
 ],
 "metadata": {
  "kernelspec": {
   "display_name": "Python 3",
   "language": "python",
   "name": "python3"
  },
  "language_info": {
   "codemirror_mode": {
    "name": "ipython",
    "version": 3
   },
   "file_extension": ".py",
   "mimetype": "text/x-python",
   "name": "python",
   "nbconvert_exporter": "python",
   "pygments_lexer": "ipython3",
   "version": "3.12.2"
  }
 },
 "nbformat": 4,
 "nbformat_minor": 2
}
