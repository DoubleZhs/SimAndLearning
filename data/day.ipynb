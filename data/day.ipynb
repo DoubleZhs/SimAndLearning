{
 "cells": [
  {
   "cell_type": "code",
   "execution_count": 3,
   "metadata": {},
   "outputs": [
    {
     "name": "stdout",
     "output_type": "stream",
     "text": [
      "轨迹数据中的车辆数: 54707\n",
      "第1天车辆数据中的车辆数: 54707\n",
      "两个数据集共有的车辆数: 54707\n",
      "仅在轨迹数据中出现的车辆数: 0\n",
      "仅在车辆数据中出现的车辆数: 0\n",
      "轨迹数据中车辆与车辆数据匹配率: 100.00%\n",
      "车辆数据中车辆与轨迹数据匹配率: 100.00%\n",
      "\n",
      "轨迹数据中出现少于2次的车辆数: 26\n"
     ]
    }
   ],
   "source": [
    "# 天数计算与车辆数据比对分析\n",
    "import pandas as pd\n",
    "import numpy as np\n",
    "import matplotlib.pyplot as plt\n",
    "\n",
    "# 读取车辆数据和轨迹数据\n",
    "\n",
    "tagStr = '2025032521295025_100'\n",
    "vehicle_data = pd.read_csv(tagStr+'_VehicleData.csv')\n",
    "trace_data = pd.read_csv('./'+tagStr+'_TraceData/Day1.csv')\n",
    "\n",
    "# 按照vehicleData.ipynb的处理方式计算天数\n",
    "vehicle_data['InDay'] = vehicle_data['In Time'] // 57600 + 1\n",
    "\n",
    "# 计算第1天的车辆数据\n",
    "day1_vehicle_data = vehicle_data[vehicle_data['InDay'] == 1]\n",
    "\n",
    "# 提取两个数据集中的唯一车辆ID\n",
    "trace_vehicles = set(trace_data['Vehicle ID'].unique())\n",
    "vehicle_vehicles = set(day1_vehicle_data['Vehicle ID'].unique())\n",
    "\n",
    "# 计算统计信息\n",
    "common_vehicles = trace_vehicles.intersection(vehicle_vehicles)\n",
    "only_in_trace = trace_vehicles - vehicle_vehicles\n",
    "only_in_vehicle = vehicle_vehicles - trace_vehicles\n",
    "\n",
    "# 输出比对结果\n",
    "print(f\"轨迹数据中的车辆数: {len(trace_vehicles)}\")\n",
    "print(f\"第1天车辆数据中的车辆数: {len(vehicle_vehicles)}\")\n",
    "print(f\"两个数据集共有的车辆数: {len(common_vehicles)}\")\n",
    "print(f\"仅在轨迹数据中出现的车辆数: {len(only_in_trace)}\")\n",
    "print(f\"仅在车辆数据中出现的车辆数: {len(only_in_vehicle)}\")\n",
    "\n",
    "# 计算匹配率\n",
    "trace_match_percent = len(common_vehicles) / len(trace_vehicles) * 100 if len(trace_vehicles) > 0 else 0\n",
    "vehicle_match_percent = len(common_vehicles) / len(vehicle_vehicles) * 100 if len(vehicle_vehicles) > 0 else 0\n",
    "print(f\"轨迹数据中车辆与车辆数据匹配率: {trace_match_percent:.2f}%\")\n",
    "print(f\"车辆数据中车辆与轨迹数据匹配率: {vehicle_match_percent:.2f}%\")\n",
    "\n",
    "# 检查车辆数据中出现次数少于3次的车辆ID\n",
    "vehicle_id_counts = trace_data['Vehicle ID'].value_counts()\n",
    "rare_vehicles = vehicle_id_counts[vehicle_id_counts < 2]\n",
    "print(f\"\\n轨迹数据中出现少于2次的车辆数: {len(rare_vehicles)}\")"
   ]
  },
  {
   "cell_type": "code",
   "execution_count": null,
   "metadata": {},
   "outputs": [],
   "source": []
  }
 ],
 "metadata": {
  "kernelspec": {
   "display_name": "Python 3",
   "language": "python",
   "name": "python3"
  },
  "language_info": {
   "codemirror_mode": {
    "name": "ipython",
    "version": 3
   },
   "file_extension": ".py",
   "mimetype": "text/x-python",
   "name": "python",
   "nbconvert_exporter": "python",
   "pygments_lexer": "ipython3",
   "version": "3.12.2"
  }
 },
 "nbformat": 4,
 "nbformat_minor": 2
}
